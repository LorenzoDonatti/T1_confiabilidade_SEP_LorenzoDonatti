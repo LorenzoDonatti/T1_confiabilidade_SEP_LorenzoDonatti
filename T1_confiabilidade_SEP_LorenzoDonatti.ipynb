{
  "nbformat": 4,
  "nbformat_minor": 0,
  "metadata": {
    "colab": {
      "provenance": [],
      "include_colab_link": true
    },
    "kernelspec": {
      "name": "python3",
      "display_name": "Python 3"
    },
    "language_info": {
      "name": "python"
    }
  },
  "cells": [
    {
      "cell_type": "markdown",
      "metadata": {
        "id": "view-in-github",
        "colab_type": "text"
      },
      "source": [
        "<a href=\"https://colab.research.google.com/github/LorenzoDonatti/T1_confiabilidade_SEP_LorenzoDonatti/blob/main/T1_confiabilidade_SEP_LorenzoDonatti.ipynb\" target=\"_parent\"><img src=\"https://colab.research.google.com/assets/colab-badge.svg\" alt=\"Open In Colab\"/></a>"
      ]
    },
    {
      "cell_type": "markdown",
      "source": [
        "# Primeiro Passo\n",
        "---\n",
        "\n",
        "\n",
        "\n",
        "> Adicione um arquivo .pwf com as contingencias de primeira ordem necessárias\n",
        "\n",
        "\n",
        "> A partir deste arquivo uma lista de listas com todas as contingencias de 1 ordem com os códigos das barras será gerada\n",
        "\n",
        "\n",
        "\n"
      ],
      "metadata": {
        "id": "7wLHuYFvlyhE"
      }
    },
    {
      "cell_type": "code",
      "source": [
        "import numpy as np\n",
        "\n",
        "# Abra o arquivo em modo de leitura\n",
        "with open('/content/STSB32_Cont_1ordem.pwf', 'rb') as arquivo:\n",
        "    dados = []\n",
        "    lendo_contingencia = False\n",
        "\n",
        "    # Leia o conteúdo do arquivo linha por linha\n",
        "    for linha in arquivo:\n",
        "        linha = linha.decode('iso-8859-1').strip()  # Remove espaços em branco no início e no fim da linha\n",
        "        #print(linha)\n",
        "        # Verifique se é o início de uma nova contingência\n",
        "        if linha.startswith('DCTG'):\n",
        "            lendo_contingencia = True\n",
        "        elif linha.startswith('99999'):\n",
        "            lendo_contingencia = False\n",
        "        elif lendo_contingencia and not (linha.startswith('CIRD') or linha.startswith('FCAS')):\n",
        "            # Divida a linha em elementos individuais (usando espaço como delimitador)\n",
        "            elementos = linha.split()\n",
        "            if elementos and elementos[2]=='1':\n",
        "                valor1 = int(elementos[5])\n",
        "                valor2 = int(elementos[7])\n",
        "                dados.append([valor1,valor2])\n",
        "# Agora, lista_de_listas conterá os valores das contingências lidos do arquivo\n",
        "LT = np.array(dados)\n",
        "print(LT)\n",
        "print(len(LT))"
      ],
      "metadata": {
        "colab": {
          "base_uri": "https://localhost:8080/"
        },
        "id": "1409vJ0JzCQi",
        "outputId": "21ee0ebc-a8fe-4efd-be76-a6c307693ad0"
      },
      "execution_count": null,
      "outputs": [
        {
          "output_type": "stream",
          "name": "stdout",
          "text": [
            "[[ 839 1047]\n",
            " [ 839 2458]\n",
            " [ 856  933]\n",
            " [ 856 1060]\n",
            " [ 896  897]\n",
            " [ 933  895]\n",
            " [ 933  955]\n",
            " [ 933  959]\n",
            " [ 934  960]\n",
            " [ 934 1047]\n",
            " [ 938  946]\n",
            " [ 938  955]\n",
            " [ 938  959]\n",
            " [ 947  939]\n",
            " [ 955  946]\n",
            " [ 955  964]\n",
            " [ 955  979]\n",
            " [ 959  895]\n",
            " [ 960 1015]\n",
            " [ 964  976]\n",
            " [ 965 1057]\n",
            " [ 976  979]\n",
            " [ 995  964]\n",
            " [ 995  979]\n",
            " [ 995 1030]\n",
            " [ 995 1060]\n",
            " [ 999  896]\n",
            " [ 999  933]\n",
            " [ 999 1060]\n",
            " [1010  947]\n",
            " [1015  939]\n",
            " [1030  955]\n",
            " [1047 1069]\n",
            " [1057 1010]\n",
            " [1060  897]\n",
            " [1069 1041]\n",
            " [1041  963]\n",
            " [ 963  965]]\n",
            "38\n"
          ]
        }
      ]
    },
    {
      "cell_type": "markdown",
      "source": [
        "# Segundo Passo\n",
        "---\n",
        "\n",
        "\n",
        "\n",
        "> Rodar uma análise de contingencias de primeira ordem no ANAREDE e abrir o relatório gerado.\n",
        "\n",
        "> A partir deste relatório, o número das contingencias severas será obtido e elas serão removidas da lista de contingências.\n",
        "\n",
        "> Estas contingencias severas serão os cortes de 1 ordem."
      ],
      "metadata": {
        "id": "Xs0GjdxUmgJU"
      }
    },
    {
      "cell_type": "code",
      "source": [
        "# Abra o arquivo em modo de leitura\n",
        "with open('/content/relatorio_contingencias_1ordem.txt', 'rb') as arquivo:\n",
        "    dados = []\n",
        "    lendo_caso = False\n",
        "    lendo_div = False\n",
        "\n",
        "    # Leia o conteúdo do arquivo linha por linha\n",
        "    for linha in arquivo:\n",
        "        linha = linha.decode('iso-8859-1').strip()  # Remove espaços em branco no início e no fim da linha\n",
        "        #print(linha)\n",
        "        # Verifique se é o início de uma nova contingência\n",
        "        if linha.startswith('SUMARIO DE MONITORACAO  ( CASOS MAIS SEVEROS )'):\n",
        "            lendo_caso = True\n",
        "        elif linha.startswith('DIVERGENTES') or linha.startswith('NAO CONVERGENTES'):\n",
        "            lendo_caso = True\n",
        "            lendo_div = True\n",
        "        elif lendo_caso and linha !='':\n",
        "            # Divida a linha em elementos individuais (usando espaço como delimitador)\n",
        "            elementos = linha.split()\n",
        "            if elementos[0].isdigit():\n",
        "                dados.append(int(elementos[0]))\n",
        "                if lendo_div:\n",
        "                   dados.extend([int(i) for i in elementos[1:]])\n",
        "# Agora, lista_de_listas conterá os valores das contingências lidos do arquivo\n",
        "remove_1 = sorted(np.array(dados) - 1)\n",
        "print(remove_1)"
      ],
      "metadata": {
        "colab": {
          "base_uri": "https://localhost:8080/"
        },
        "id": "USlamERG-STC",
        "outputId": "d8b9c9e4-1c33-4bb2-ff5e-46d315ce7353"
      },
      "execution_count": null,
      "outputs": [
        {
          "output_type": "stream",
          "name": "stdout",
          "text": [
            "[15, 16, 19, 22, 23]\n"
          ]
        }
      ]
    },
    {
      "cell_type": "code",
      "source": [
        "cortes_1ordem = LT[remove_1]\n",
        "cortes_1ordem"
      ],
      "metadata": {
        "colab": {
          "base_uri": "https://localhost:8080/"
        },
        "id": "zsi42WaM--kK",
        "outputId": "29b97102-ff54-491a-b5c7-fde43f21268c"
      },
      "execution_count": null,
      "outputs": [
        {
          "output_type": "execute_result",
          "data": {
            "text/plain": [
              "array([[955, 964],\n",
              "       [955, 979],\n",
              "       [964, 976],\n",
              "       [995, 964],\n",
              "       [995, 979]])"
            ]
          },
          "metadata": {},
          "execution_count": 72
        }
      ]
    },
    {
      "cell_type": "code",
      "source": [
        "# Remove as linhas da lista inicial (contingências de 1ª ordem)\n",
        "LT2 = np.delete(LT,remove_1,axis=0)\n",
        "m=len(LT2)\n",
        "\n",
        "print(LT2)\n",
        "print(m)"
      ],
      "metadata": {
        "colab": {
          "base_uri": "https://localhost:8080/"
        },
        "id": "DHJzEOU1KzOW",
        "outputId": "bb4e3fb4-5018-4a43-d9f3-50e402426736"
      },
      "execution_count": null,
      "outputs": [
        {
          "output_type": "stream",
          "name": "stdout",
          "text": [
            "[[ 839 1047]\n",
            " [ 839 2458]\n",
            " [ 856  933]\n",
            " [ 856 1060]\n",
            " [ 896  897]\n",
            " [ 933  895]\n",
            " [ 933  955]\n",
            " [ 933  959]\n",
            " [ 934  960]\n",
            " [ 934 1047]\n",
            " [ 938  946]\n",
            " [ 938  955]\n",
            " [ 938  959]\n",
            " [ 947  939]\n",
            " [ 955  946]\n",
            " [ 959  895]\n",
            " [ 960 1015]\n",
            " [ 965 1057]\n",
            " [ 976  979]\n",
            " [ 995 1030]\n",
            " [ 995 1060]\n",
            " [ 999  896]\n",
            " [ 999  933]\n",
            " [ 999 1060]\n",
            " [1010  947]\n",
            " [1015  939]\n",
            " [1030  955]\n",
            " [1047 1069]\n",
            " [1057 1010]\n",
            " [1060  897]\n",
            " [1069 1041]\n",
            " [1041  963]\n",
            " [ 963  965]]\n",
            "33\n"
          ]
        }
      ]
    },
    {
      "cell_type": "markdown",
      "source": [
        "# Terceiro Passo\n",
        "---\n",
        "\n",
        "> Criar uma lista com todas combinações possíveis entre as contingencias não severas para realizar a analise de segunda ordem.\n",
        "\n",
        "> Com essas combinações, criar um arquivo .PWF semelhante ao de primeira ordem, porém com todas contingencias de segunda ordem."
      ],
      "metadata": {
        "id": "dsjIYvlenaK4"
      }
    },
    {
      "cell_type": "code",
      "source": [
        "from itertools import combinations\n",
        "\n",
        "# Cria uma lista de todos as linhas de 1 a m\n",
        "linhas = list(range(0, m))\n",
        "\n",
        "# Usa a função numpy.array() para retornar uma matriz de todas as combinações de dois elementos das linhas\n",
        "combinacoes = np.array(list(combinations(linhas, 2)))\n",
        "n = len(combinacoes)\n",
        "\n",
        "print(combinacoes)\n",
        "print(n)"
      ],
      "metadata": {
        "colab": {
          "base_uri": "https://localhost:8080/"
        },
        "id": "J5cp_7t3KDo_",
        "outputId": "0e3003cc-26ed-420a-ba2d-2b9a25772833"
      },
      "execution_count": null,
      "outputs": [
        {
          "output_type": "stream",
          "name": "stdout",
          "text": [
            "[[ 0  1]\n",
            " [ 0  2]\n",
            " [ 0  3]\n",
            " ...\n",
            " [30 31]\n",
            " [30 32]\n",
            " [31 32]]\n",
            "528\n"
          ]
        }
      ]
    },
    {
      "cell_type": "code",
      "source": [
        "# Abre o arquivo para escrita do PWF\n",
        "with open('/content/STSB32_Cont_2ordem.pwf', 'w') as fileID:\n",
        "\n",
        "  # Comando para listar as contingências\n",
        "  fileID.write('DCTG\\n')\n",
        "\n",
        "  # Número da cont., prioridade e descrição\n",
        "  for i in range(n):\n",
        "    fileID.write('%4d 0  2 Contingencia dupla de %d para %d e de %d para %d\\n' % (i+200, LT2[combinacoes[i,0], 0], LT2[combinacoes[i,0], 1], LT2[combinacoes[i,1], 0], LT2[combinacoes[i,1], 1]))\n",
        "\n",
        "    # Linha, aqui tá sempre o circuito 1\n",
        "    fileID.write('CIRD %4d  %4d   1\\n' %  (LT2[combinacoes[i,0], 0], LT2[combinacoes[i,0], 1]))\n",
        "    fileID.write('CIRD %4d  %4d   1\\n' % (LT2[combinacoes[i,1], 0], LT2[combinacoes[i,1], 1]))\n",
        "\n",
        "    # Fim do Caso\n",
        "    fileID.write('FCAS\\n')\n",
        "\n",
        "  # FIM do comando DCTG\n",
        "  fileID.write('99999\\n')\n",
        "\n",
        "  # FIM do arquivo PWF\n",
        "  fileID.write('FIM\\n')"
      ],
      "metadata": {
        "id": "uWyiZtgAI6RS"
      },
      "execution_count": null,
      "outputs": []
    },
    {
      "cell_type": "markdown",
      "source": [
        "# Quarto Passo\n",
        "---\n",
        "\n",
        "> Assim como no segundo passo, realizar a análise de contingencias no ANAREDE, porém, neste caso, de segunda ordem, e abrir o relatório gerado.\n",
        "\n",
        "> Com base no relatório, obter no número das contingências severas.\n",
        "\n",
        "> Estas contingencias severas serão os cortes de 2 ordem."
      ],
      "metadata": {
        "id": "Jeu0Pa4un8Lu"
      }
    },
    {
      "cell_type": "code",
      "source": [
        "# Abra o arquivo em modo de leitura\n",
        "with open('/content/relatorio_contingencias_2ordem.txt', 'rb') as arquivo:\n",
        "    dados = []\n",
        "    lendo_caso = False\n",
        "    lendo_div = False\n",
        "\n",
        "    # Leia o conteúdo do arquivo linha por linha\n",
        "    for linha in arquivo:\n",
        "        linha = linha.decode('iso-8859-1').strip()  # Remove espaços em branco no início e no fim da linha\n",
        "        #print(linha)\n",
        "        # Verifique se é o início de uma nova contingência\n",
        "        if linha.startswith('SUMARIO DE MONITORACAO  ( CASOS MAIS SEVEROS )'):\n",
        "            lendo_caso = True\n",
        "        elif linha.startswith('DIVERGENTES') or linha.startswith('NAO CONVERGENTES'):\n",
        "            lendo_caso = True\n",
        "            lendo_div = True\n",
        "        elif lendo_caso and linha !='':\n",
        "            # Divida a linha em elementos individuais (usando espaço como delimitador)\n",
        "            elementos = linha.split()\n",
        "            if elementos[0].isdigit():\n",
        "                dados.append(int(elementos[0]))\n",
        "                if lendo_div:\n",
        "                   dados.extend([int(i) for i in elementos[1:]])\n",
        "# Agora, lista_de_listas conterá os valores das contingências lidos do arquivo\n",
        "#remove = sorted(np.array(dados))\n",
        "remove_2 = np.array(dados)\n",
        "print(remove_2)"
      ],
      "metadata": {
        "colab": {
          "base_uri": "https://localhost:8080/"
        },
        "id": "IPAE2o_kc6pj",
        "outputId": "06eceb32-3eb0-4c8a-9a13-667f6004f9b3"
      },
      "execution_count": null,
      "outputs": [
        {
          "output_type": "stream",
          "name": "stdout",
          "text": [
            "[476 475 559 614 358 558 557 538 521 228 669 633 519 499 497 478 409 406\n",
            " 338]\n"
          ]
        }
      ]
    },
    {
      "cell_type": "code",
      "source": [
        "index = combinacoes[np.array(remove_2) - 200]\n",
        "\n",
        "cortes_2ordem = LT2[combinacoes[np.array(remove_2) - 200]]\n",
        "print(cortes_2ordem)"
      ],
      "metadata": {
        "colab": {
          "base_uri": "https://localhost:8080/"
        },
        "id": "Nkya-yZ2Ra4u",
        "outputId": "d1daff2c-ae69-4b17-abd5-2fc13e9ebd37"
      },
      "execution_count": null,
      "outputs": [
        {
          "output_type": "stream",
          "name": "stdout",
          "text": [
            "[[[ 938  946]\n",
            "  [ 938  959]]\n",
            "\n",
            " [[ 938  946]\n",
            "  [ 938  955]]\n",
            "\n",
            " [[ 955  946]\n",
            "  [ 965 1057]]\n",
            "\n",
            " [[ 965 1057]\n",
            "  [1010  947]]\n",
            "\n",
            " [[ 933  895]\n",
            "  [ 955  946]]\n",
            "\n",
            " [[ 955  946]\n",
            "  [ 960 1015]]\n",
            "\n",
            " [[ 955  946]\n",
            "  [ 959  895]]\n",
            "\n",
            " [[ 947  939]\n",
            "  [ 955  946]]\n",
            "\n",
            " [[ 938  959]\n",
            "  [ 960 1015]]\n",
            "\n",
            " [[ 839 1047]\n",
            "  [1060  897]]\n",
            "\n",
            " [[ 999  896]\n",
            "  [1060  897]]\n",
            "\n",
            " [[ 976  979]\n",
            "  [1060  897]]\n",
            "\n",
            " [[ 938  959]\n",
            "  [ 955  946]]\n",
            "\n",
            " [[ 938  955]\n",
            "  [ 955  946]]\n",
            "\n",
            " [[ 938  955]\n",
            "  [ 938  959]]\n",
            "\n",
            " [[ 938  946]\n",
            "  [ 955  946]]\n",
            "\n",
            " [[ 933  959]\n",
            "  [ 955  946]]\n",
            "\n",
            " [[ 933  959]\n",
            "  [ 938  955]]\n",
            "\n",
            " [[ 896  897]\n",
            "  [ 999  896]]]\n"
          ]
        }
      ]
    },
    {
      "cell_type": "markdown",
      "source": [
        "#Quinto Passo\n",
        "---\n",
        "\n",
        "> Como na descrição do trabalho, os valores de Q estão associados com os nomes das barras, e não com os códigos, será necessária uma pequena conversão.\n",
        "\n",
        "> Abrindo o arquivo .PWF base do STSB32 é possível acessar a relação NOME - CÓDIGO da barra.\n",
        "\n",
        "> Além disso, um dicionário relacionando o valor de Q com as LTs será criado e as listas com os números das barras será substituída pelos valores de Q."
      ],
      "metadata": {
        "id": "6igFfUXHolCO"
      }
    },
    {
      "cell_type": "code",
      "source": [
        "# Abra o arquivo em modo de leitura\n",
        "with open('/content/STSB32_EDITADO.PWF', 'rb') as arquivo:\n",
        "    nomes = {}\n",
        "    lendo_caso = False\n",
        "\n",
        "    # Leia o conteúdo do arquivo linha por linha\n",
        "    for linha in arquivo:\n",
        "        linha = linha.decode('iso-8859-1').strip()  # Remove espaços em branco no início e no fim da linha\n",
        "        # Verifique se é o início de uma nova contingência\n",
        "        if linha.startswith('DBAR'):\n",
        "            lendo_caso = True\n",
        "        elif linha.startswith('99999'):\n",
        "            lendo_caso = False\n",
        "        elif lendo_caso and not linha.startswith('(Num)'):\n",
        "            # Divida a linha em elementos individuais (usando espaço como delimitador)\n",
        "            elementos = linha.split()\n",
        "            nomes[elementos[2][1:]] = int(elementos[0])\n",
        "# Agora, lista_de_listas conterá os valores das contingências lidos do arquivo\n",
        "print(nomes)"
      ],
      "metadata": {
        "colab": {
          "base_uri": "https://localhost:8080/"
        },
        "id": "QrFkaCitluTe",
        "outputId": "ab2a613b-19c8-4b89-f588-f8d25872b18b"
      },
      "execution_count": null,
      "outputs": [
        {
          "output_type": "stream",
          "name": "stdout",
          "text": [
            "{'BATEIAS-230': 814, 'CASCAV-PR230': 839, 'SEGRED-PR525': 856, 'BATEIA-PR525': 895, 'CASCOE-PR525': 896, 'SCAXIA-PR525': 897, 'AREIA--PR525': 933, 'AREIA-230': 934, 'BLUMEN-SC525': 938, 'BLUMEN-SC230': 939, 'BIGUAC-SC525': 946, 'BIGUAC-SC230': 947, 'CNOVOS-SC525': 955, 'CURITI-PR525': 959, 'CURITI-PR230': 960, 'MCLARO-RS230': 963, 'CAXIAS-RS525': 964, 'CAXIAS-RS230': 965, 'GRAVAT-RS525': 976, 'NSRITA-RS525': 979, 'ITA-----0425': 995, 'IVAIPE-PR525': 999, 'JLAC-B-SC230': 1010, 'JOINOR-SC230': 1015, 'MACHAD-SC525': 1030, 'PFUNDO-RS230': 1041, 'SOSORIO-230': 1047, 'SIDERO-SC230': 1057, 'SSANTI-PR525': 1060, 'XANXER-SC230': 1069, 'GRAVA2-RS230': 1210, 'CASCOE-PR230': 2458}\n"
          ]
        }
      ]
    },
    {
      "cell_type": "code",
      "source": [
        "import pandas as pd\n",
        "from io import StringIO\n",
        "\n",
        "data = '''AREIA--PR525 SEGRED-PR525 2,7883E-04\n",
        "ITA-----0425 MACHAD-SC525 3,1767E-04\n",
        "AREIA--PR525 BATEIA-PR525 1,2577E-03\n",
        "ITA-----0425 SSANTI-PR525 9,1902E-04\n",
        "AREIA--PR525 CNOVOS-SC525 8,6648E-04\n",
        "IVAIPE-PR525 SSANTI-PR525 8,2081E-04\n",
        "AREIA--PR525 CURITI-PR525 1,1556E-03\n",
        "SCAXIA-PR525 SSANTI-PR525 4,4252E-04\n",
        "AREIA--PR525 IVAIPE-PR525 8,5126E-04\n",
        "SEGRED-PR525 SSANTI-PR525 2,9751E-04\n",
        "BATEIA-PR525 CURITI-PR525 1,6476E-04\n",
        "AREIA-230 CURITI-PR230 6,5850E-04\n",
        "BIGUAC-SC525 BLUMEN-SC525 4,2778E-04\n",
        "AREIA-230 SOSORIO-230 4,2973E-04\n",
        "BIGUAC-SC525 CNOVOS-SC525 1,1535E-03\n",
        "BIGUAC-SC230 BLUMEN-SC230 3,3626E-04\n",
        "BLUMEN-SC525 CNOVOS-SC525 1,2405E-03\n",
        "BIGUAC-SC230 JLAC-B-SC230 3,4676E-04\n",
        "BLUMEN-SC525 CURITI-PR525 6,7837E-04\n",
        "BLUMEN-SC230 JOINOR-SC230 1,9550E-04\n",
        "CASCOE-PR525 SCAXIA-PR525 3,0981E-04\n",
        "CASCAV-PR230 SOSORIO-230 2,1504E-04\n",
        "CASCOE-PR525 IVAIPE-PR525 1,0270E-03\n",
        "CASCAV-PR230 CASCOE-PR230 2,7589E-05\n",
        "CAXIAS-RS525 CNOVOS-SC525 9,9905E-04\n",
        "CAXIAS-RS230 MCLARO-RS230 1,4267E-04\n",
        "CAXIAS-RS525 GRAVAT-RS525 3,8747E-04\n",
        "CAXIAS-RS230 SIDERO-SC230 5,6385E-04\n",
        "CAXIAS-RS525 ITA-----0425 1,2528E-03\n",
        "CURITI-PR230 JOINOR-SC230 2,6752E-04\n",
        "CNOVOS-SC525 NSRITA-RS525 1,2646E-03\n",
        "JLAC-B-SC230 SIDERO-SC230 1,2668E-04\n",
        "CNOVOS-SC525 MACHAD-SC525 1,9623E-04\n",
        "MCLARO-RS230 PFUNDO-RS230 6,1219E-04\n",
        "GRAVAT-RS525 NSRITA-RS525 1,4509E-04\n",
        "PFUNDO-RS230 XANXER-SC230 2,1210E-04\n",
        "ITA-----0425 NSRITA-RS525 1,5422E-03\n",
        "SOSORIO-230 XANXER-SC230 4,3374E-04'''\n",
        "\n",
        "df = pd.read_csv(StringIO(data), sep=' ', names=['Origem', 'Destino', 'Valor'])\n",
        "\n",
        "df['Valor'] = pd.to_numeric(df['Valor'].str.replace(',','.'))\n",
        "\n",
        "# Crie um dicionário para armazenar os valores de confiabilidade mapeados por pares [origem, destino]\n",
        "pfalha = {}\n",
        "\n",
        "for _, row in df.iterrows():\n",
        "    origem = nomes.get(row['Origem'], row['Origem'])  # Use o nome original se não estiver no dicionário\n",
        "    destino = nomes.get(row['Destino'], row['Destino'])  # Use o nome original se não estiver no dicionário\n",
        "    valor = row['Valor']\n",
        "\n",
        "    par_1 = [origem, destino]\n",
        "    par_2 = [destino, origem]\n",
        "\n",
        "    pfalha[tuple(par_1)] = valor\n",
        "    pfalha[tuple(par_2)] = valor\n",
        "\n",
        "# Imprima o dicionário resultante\n",
        "print(pfalha)"
      ],
      "metadata": {
        "colab": {
          "base_uri": "https://localhost:8080/"
        },
        "id": "IUH-ohLhe8VZ",
        "outputId": "68080fa0-7b6c-4253-f139-2447c7265ee3"
      },
      "execution_count": null,
      "outputs": [
        {
          "output_type": "stream",
          "name": "stdout",
          "text": [
            "{(933, 856): 0.00027883, (856, 933): 0.00027883, (995, 1030): 0.00031767, (1030, 995): 0.00031767, (933, 895): 0.0012577, (895, 933): 0.0012577, (995, 1060): 0.00091902, (1060, 995): 0.00091902, (933, 955): 0.00086648, (955, 933): 0.00086648, (999, 1060): 0.00082081, (1060, 999): 0.00082081, (933, 959): 0.0011556, (959, 933): 0.0011556, (897, 1060): 0.00044252, (1060, 897): 0.00044252, (933, 999): 0.00085126, (999, 933): 0.00085126, (856, 1060): 0.00029751, (1060, 856): 0.00029751, (895, 959): 0.00016476, (959, 895): 0.00016476, (934, 960): 0.0006585, (960, 934): 0.0006585, (946, 938): 0.00042778, (938, 946): 0.00042778, (934, 1047): 0.00042973, (1047, 934): 0.00042973, (946, 955): 0.0011535, (955, 946): 0.0011535, (947, 939): 0.00033626, (939, 947): 0.00033626, (938, 955): 0.0012405, (955, 938): 0.0012405, (947, 1010): 0.00034676, (1010, 947): 0.00034676, (938, 959): 0.00067837, (959, 938): 0.00067837, (939, 1015): 0.0001955, (1015, 939): 0.0001955, (896, 897): 0.00030981, (897, 896): 0.00030981, (839, 1047): 0.00021504, (1047, 839): 0.00021504, (896, 999): 0.001027, (999, 896): 0.001027, (839, 2458): 2.7589e-05, (2458, 839): 2.7589e-05, (964, 955): 0.00099905, (955, 964): 0.00099905, (965, 963): 0.00014267, (963, 965): 0.00014267, (964, 976): 0.00038747, (976, 964): 0.00038747, (965, 1057): 0.00056385, (1057, 965): 0.00056385, (964, 995): 0.0012528, (995, 964): 0.0012528, (960, 1015): 0.00026752, (1015, 960): 0.00026752, (955, 979): 0.0012646, (979, 955): 0.0012646, (1010, 1057): 0.00012668, (1057, 1010): 0.00012668, (955, 1030): 0.00019623, (1030, 955): 0.00019623, (963, 1041): 0.00061219, (1041, 963): 0.00061219, (976, 979): 0.00014509, (979, 976): 0.00014509, (1041, 1069): 0.0002121, (1069, 1041): 0.0002121, (995, 979): 0.0015422, (979, 995): 0.0015422, (1047, 1069): 0.00043374, (1069, 1047): 0.00043374}\n"
          ]
        }
      ]
    },
    {
      "cell_type": "markdown",
      "source": [
        "#SEXTO PASSO\n",
        "---\n",
        ">Percorre as listas e calcula a confiabilidade do sistema."
      ],
      "metadata": {
        "id": "wC8pt0xGSHnJ"
      }
    },
    {
      "cell_type": "code",
      "source": [
        "valores_q1ordem = []\n",
        "valores_q2ordem = []\n",
        "\n",
        "for caminho in cortes_1ordem:\n",
        "    if tuple(caminho) in pfalha:\n",
        "        valores_q1ordem.append(pfalha[tuple(caminho)])\n",
        "\n",
        "for sublista in cortes_2ordem:\n",
        "    resultado = 1.0  # Inicializa o resultado com 1.0\n",
        "    for caminho in sublista:\n",
        "        if tuple(caminho) in pfalha:\n",
        "            resultado *= pfalha[tuple(caminho)]  # Multiplica o resultado pelo valor correspondente\n",
        "    valores_q2ordem.append(resultado)\n",
        "\n",
        "print(valores_q1ordem)\n",
        "print(valores_q2ordem)"
      ],
      "metadata": {
        "colab": {
          "base_uri": "https://localhost:8080/"
        },
        "id": "5f52CsXchN6a",
        "outputId": "31c89dd2-8082-4b42-e5a2-76b1c1df216b"
      },
      "execution_count": null,
      "outputs": [
        {
          "output_type": "stream",
          "name": "stdout",
          "text": [
            "[0.00099905, 0.0012646, 0.00038747, 0.0012528, 0.0015422]\n",
            "[2.901931186e-07, 5.3066109e-07, 6.50400975e-07, 1.95520626e-07, 1.45075695e-06, 3.0858432e-07, 1.9005066e-07, 3.8787591e-07, 1.814775424e-07, 9.51595008e-08, 4.5446803999999995e-07, 6.420522680000001e-08, 7.82499795e-07, 1.4309167500000001e-06, 8.41517985e-07, 4.9344423e-07, 1.3329845999999998e-06, 1.4335218e-06, 3.1817487e-07]\n"
          ]
        }
      ]
    },
    {
      "cell_type": "code",
      "source": [
        "valores_q = np.array(valores_q1ordem + valores_q2ordem)\n",
        "confiabilidade = np.prod(1-valores_q)\n",
        "\n",
        "print(\"A confiabilidade do sistema é:\")\n",
        "print(confiabilidade)"
      ],
      "metadata": {
        "colab": {
          "base_uri": "https://localhost:8080/"
        },
        "id": "ZHEcHeWmv1i7",
        "outputId": "b0a970c7-819d-48bd-f2df-1b69b5d616d9"
      },
      "execution_count": null,
      "outputs": [
        {
          "output_type": "stream",
          "name": "stdout",
          "text": [
            "0.9945539806314897\n"
          ]
        }
      ]
    }
  ]
}